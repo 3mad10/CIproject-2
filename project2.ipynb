{
 "cells": [
  {
   "cell_type": "code",
   "execution_count": 79,
   "id": "7f96460b",
   "metadata": {},
   "outputs": [],
   "source": [
    "import numpy as np\n",
    "import pandas as pd\n",
    "from IPython.display import display\n",
    "import csv\n",
    "from PIL import Image\n",
    "from scipy.ndimage import rotate\n",
    "import tensorflow as tf\n",
    "from tensorflow import keras as ks\n",
    "%matplotlib inline"
   ]
  },
  {
   "cell_type": "code",
   "execution_count": 80,
   "id": "90aa3aad",
   "metadata": {},
   "outputs": [
    {
     "name": "stdout",
     "output_type": "stream",
     "text": [
      "There are 13440 training arabic letter images of 32x32 pixels.\n",
      "There are 3360 testing arabic letter images of 32x32 pixels.\n"
     ]
    },
    {
     "data": {
      "text/html": [
       "<div>\n",
       "<style scoped>\n",
       "    .dataframe tbody tr th:only-of-type {\n",
       "        vertical-align: middle;\n",
       "    }\n",
       "\n",
       "    .dataframe tbody tr th {\n",
       "        vertical-align: top;\n",
       "    }\n",
       "\n",
       "    .dataframe thead th {\n",
       "        text-align: right;\n",
       "    }\n",
       "</style>\n",
       "<table border=\"1\" class=\"dataframe\">\n",
       "  <thead>\n",
       "    <tr style=\"text-align: right;\">\n",
       "      <th></th>\n",
       "      <th>0</th>\n",
       "      <th>1</th>\n",
       "      <th>2</th>\n",
       "      <th>3</th>\n",
       "      <th>4</th>\n",
       "      <th>5</th>\n",
       "      <th>6</th>\n",
       "      <th>7</th>\n",
       "      <th>8</th>\n",
       "      <th>9</th>\n",
       "      <th>...</th>\n",
       "      <th>1014</th>\n",
       "      <th>1015</th>\n",
       "      <th>1016</th>\n",
       "      <th>1017</th>\n",
       "      <th>1018</th>\n",
       "      <th>1019</th>\n",
       "      <th>1020</th>\n",
       "      <th>1021</th>\n",
       "      <th>1022</th>\n",
       "      <th>1023</th>\n",
       "    </tr>\n",
       "  </thead>\n",
       "  <tbody>\n",
       "    <tr>\n",
       "      <th>0</th>\n",
       "      <td>0</td>\n",
       "      <td>0</td>\n",
       "      <td>0</td>\n",
       "      <td>0</td>\n",
       "      <td>0</td>\n",
       "      <td>0</td>\n",
       "      <td>0</td>\n",
       "      <td>0</td>\n",
       "      <td>0</td>\n",
       "      <td>0</td>\n",
       "      <td>...</td>\n",
       "      <td>0</td>\n",
       "      <td>0</td>\n",
       "      <td>0</td>\n",
       "      <td>0</td>\n",
       "      <td>0</td>\n",
       "      <td>0</td>\n",
       "      <td>0</td>\n",
       "      <td>0</td>\n",
       "      <td>0</td>\n",
       "      <td>0</td>\n",
       "    </tr>\n",
       "    <tr>\n",
       "      <th>1</th>\n",
       "      <td>0</td>\n",
       "      <td>0</td>\n",
       "      <td>0</td>\n",
       "      <td>0</td>\n",
       "      <td>0</td>\n",
       "      <td>0</td>\n",
       "      <td>0</td>\n",
       "      <td>0</td>\n",
       "      <td>0</td>\n",
       "      <td>0</td>\n",
       "      <td>...</td>\n",
       "      <td>0</td>\n",
       "      <td>0</td>\n",
       "      <td>0</td>\n",
       "      <td>0</td>\n",
       "      <td>0</td>\n",
       "      <td>0</td>\n",
       "      <td>0</td>\n",
       "      <td>0</td>\n",
       "      <td>0</td>\n",
       "      <td>0</td>\n",
       "    </tr>\n",
       "    <tr>\n",
       "      <th>2</th>\n",
       "      <td>0</td>\n",
       "      <td>0</td>\n",
       "      <td>0</td>\n",
       "      <td>0</td>\n",
       "      <td>0</td>\n",
       "      <td>0</td>\n",
       "      <td>0</td>\n",
       "      <td>0</td>\n",
       "      <td>0</td>\n",
       "      <td>0</td>\n",
       "      <td>...</td>\n",
       "      <td>0</td>\n",
       "      <td>0</td>\n",
       "      <td>0</td>\n",
       "      <td>0</td>\n",
       "      <td>0</td>\n",
       "      <td>0</td>\n",
       "      <td>0</td>\n",
       "      <td>0</td>\n",
       "      <td>0</td>\n",
       "      <td>0</td>\n",
       "    </tr>\n",
       "    <tr>\n",
       "      <th>3</th>\n",
       "      <td>0</td>\n",
       "      <td>0</td>\n",
       "      <td>0</td>\n",
       "      <td>0</td>\n",
       "      <td>0</td>\n",
       "      <td>0</td>\n",
       "      <td>0</td>\n",
       "      <td>0</td>\n",
       "      <td>0</td>\n",
       "      <td>0</td>\n",
       "      <td>...</td>\n",
       "      <td>0</td>\n",
       "      <td>0</td>\n",
       "      <td>0</td>\n",
       "      <td>0</td>\n",
       "      <td>0</td>\n",
       "      <td>0</td>\n",
       "      <td>0</td>\n",
       "      <td>0</td>\n",
       "      <td>0</td>\n",
       "      <td>0</td>\n",
       "    </tr>\n",
       "    <tr>\n",
       "      <th>4</th>\n",
       "      <td>0</td>\n",
       "      <td>0</td>\n",
       "      <td>0</td>\n",
       "      <td>0</td>\n",
       "      <td>0</td>\n",
       "      <td>0</td>\n",
       "      <td>0</td>\n",
       "      <td>0</td>\n",
       "      <td>0</td>\n",
       "      <td>0</td>\n",
       "      <td>...</td>\n",
       "      <td>0</td>\n",
       "      <td>0</td>\n",
       "      <td>0</td>\n",
       "      <td>0</td>\n",
       "      <td>0</td>\n",
       "      <td>0</td>\n",
       "      <td>0</td>\n",
       "      <td>0</td>\n",
       "      <td>0</td>\n",
       "      <td>0</td>\n",
       "    </tr>\n",
       "  </tbody>\n",
       "</table>\n",
       "<p>5 rows × 1024 columns</p>\n",
       "</div>"
      ],
      "text/plain": [
       "   0     1     2     3     4     5     6     7     8     9     ...  1014  \\\n",
       "0     0     0     0     0     0     0     0     0     0     0  ...     0   \n",
       "1     0     0     0     0     0     0     0     0     0     0  ...     0   \n",
       "2     0     0     0     0     0     0     0     0     0     0  ...     0   \n",
       "3     0     0     0     0     0     0     0     0     0     0  ...     0   \n",
       "4     0     0     0     0     0     0     0     0     0     0  ...     0   \n",
       "\n",
       "   1015  1016  1017  1018  1019  1020  1021  1022  1023  \n",
       "0     0     0     0     0     0     0     0     0     0  \n",
       "1     0     0     0     0     0     0     0     0     0  \n",
       "2     0     0     0     0     0     0     0     0     0  \n",
       "3     0     0     0     0     0     0     0     0     0  \n",
       "4     0     0     0     0     0     0     0     0     0  \n",
       "\n",
       "[5 rows x 1024 columns]"
      ]
     },
     "execution_count": 80,
     "metadata": {},
     "output_type": "execute_result"
    }
   ],
   "source": [
    "letters_training_images_file_path = \"/home/mohamed/Downloads/archive/csvTrainImages 13440x1024.csv\"\n",
    "letters_training_labels_file_path = \"/home/mohamed/Downloads/archive/csvTrainLabel 13440x1.csv\"\n",
    "letters_testing_images_file_path = \"/home/mohamed/Downloads/archive/csvTestImages 3360x1024.csv\"\n",
    "letters_testing_labels_file_path = \"/home/mohamed/Downloads/archive/csvTestLabel 3360x1.csv\"\n",
    "\n",
    "\n",
    "training_letters_images = pd.read_csv(letters_training_images_file_path, header=None)\n",
    "training_letters_labels = pd.read_csv(letters_training_labels_file_path, header=None)\n",
    "testing_letters_images = pd.read_csv(letters_testing_images_file_path, header=None)\n",
    "testing_letters_labels = pd.read_csv(letters_testing_labels_file_path, header=None)\n",
    "\n",
    "# print statistics about the dataset\n",
    "print(\"There are %d training arabic letter images of 32x32 pixels.\" %training_letters_images.shape[0])\n",
    "print(\"There are %d testing arabic letter images of 32x32 pixels.\" %testing_letters_images.shape[0])\n",
    "training_letters_images.head()"
   ]
  },
  {
   "cell_type": "code",
   "execution_count": 81,
   "id": "66f6c150",
   "metadata": {},
   "outputs": [],
   "source": [
    "def convert_values_to_image(image_values, display=False):\n",
    "    image_array = np.asarray(image_values)\n",
    "    image_array = image_array.reshape(32,32).astype('uint8')\n",
    "    # The original dataset is reflected so we will flip it then rotate for a better view only.\n",
    "    image_array = np.flip(image_array, 0)\n",
    "    image_array = rotate(image_array, -90)\n",
    "    new_image = Image.fromarray(image_array)\n",
    "    if display == True:\n",
    "        new_image.show()\n",
    "    return new_image"
   ]
  },
  {
   "cell_type": "code",
   "execution_count": 82,
   "id": "5a47ee4b",
   "metadata": {},
   "outputs": [],
   "source": [
    "training_letters_images_scaled = training_letters_images.values.astype('float32')/255\n",
    "training_letters_labels = training_letters_labels.values.astype('int32')\n",
    "testing_letters_images_scaled = testing_letters_images.values.astype('float32')/255\n",
    "testing_letters_labels = testing_letters_labels.values.astype('int32')"
   ]
  },
  {
   "cell_type": "code",
   "execution_count": 83,
   "id": "c5849be7",
   "metadata": {},
   "outputs": [
    {
     "name": "stdout",
     "output_type": "stream",
     "text": [
      "Training images of letters after scaling\n",
      "(13440, 1024)\n"
     ]
    },
    {
     "data": {
      "text/plain": [
       "array([[0., 0., 0., ..., 0., 0., 0.],\n",
       "       [0., 0., 0., ..., 0., 0., 0.],\n",
       "       [0., 0., 0., ..., 0., 0., 0.],\n",
       "       [0., 0., 0., ..., 0., 0., 0.],\n",
       "       [0., 0., 0., ..., 0., 0., 0.]], dtype=float32)"
      ]
     },
     "execution_count": 83,
     "metadata": {},
     "output_type": "execute_result"
    }
   ],
   "source": [
    "print(\"Training images of letters after scaling\")\n",
    "print(training_letters_images_scaled.shape)\n",
    "training_letters_images_scaled[0:5]"
   ]
  },
  {
   "cell_type": "code",
   "execution_count": 84,
   "id": "0043745b",
   "metadata": {},
   "outputs": [],
   "source": [
    "number_of_classes = 28\n",
    "\n",
    "training_letters_labels_encoded = ks.utils.to_categorical(training_letters_labels-1, num_classes=number_of_classes)\n",
    "testing_letters_labels_encoded = ks.utils.to_categorical(testing_letters_labels-1, num_classes=number_of_classes)"
   ]
  },
  {
   "cell_type": "code",
   "execution_count": 85,
   "id": "0b6d1ac9",
   "metadata": {},
   "outputs": [
    {
     "name": "stdout",
     "output_type": "stream",
     "text": [
      "[[1. 0. 0. ... 0. 0. 0.]\n",
      " [1. 0. 0. ... 0. 0. 0.]\n",
      " [1. 0. 0. ... 0. 0. 0.]\n",
      " ...\n",
      " [0. 0. 0. ... 0. 0. 1.]\n",
      " [0. 0. 0. ... 0. 0. 1.]\n",
      " [0. 0. 0. ... 0. 0. 1.]]\n"
     ]
    }
   ],
   "source": [
    "print(training_letters_labels_encoded)"
   ]
  },
  {
   "cell_type": "code",
   "execution_count": 86,
   "id": "74d7bf31",
   "metadata": {},
   "outputs": [
    {
     "name": "stdout",
     "output_type": "stream",
     "text": [
      "(13440, 32, 32, 1) (13440, 28) (3360, 32, 32, 1) (3360, 28)\n"
     ]
    }
   ],
   "source": [
    "training_letters_images_scaled = training_letters_images_scaled.reshape([-1, 32, 32, 1])\n",
    "testing_letters_images_scaled = testing_letters_images_scaled.reshape([-1, 32, 32, 1])\n",
    "\n",
    "print(training_letters_images_scaled.shape, training_letters_labels_encoded.shape, testing_letters_images_scaled.shape, testing_letters_labels_encoded.shape)"
   ]
  },
  {
   "cell_type": "code",
   "execution_count": 90,
   "id": "eb90b3eb",
   "metadata": {},
   "outputs": [],
   "source": [
    "def create_model(optimizer='adam', activation='relu'):\n",
    "    # create model\n",
    "    model = ks.models.Sequential()\n",
    "    model.add(ks.layers.Conv2D(filters=16, kernel_size=3, padding='same', input_shape=(32, 32, 1), activation=activation))\n",
    "    model.add(ks.layers.BatchNormalization())\n",
    "    model.add(ks.layers.MaxPooling2D(pool_size=2))\n",
    "    model.add(ks.layers.Dropout(0.2))\n",
    "\n",
    "    model.add(ks.layers.Conv2D(filters=32, kernel_size=3, padding='same',activation=activation))\n",
    "    model.add(ks.layers.BatchNormalization())\n",
    "    model.add(ks.layers.MaxPooling2D(pool_size=2))\n",
    "    model.add(ks.layers.Dropout(0.2))\n",
    "\n",
    "    model.add(ks.layers.Conv2D(filters=64, kernel_size=3, padding='same',activation=activation))\n",
    "    model.add(ks.layers.BatchNormalization())\n",
    "    model.add(ks.layers.MaxPooling2D(pool_size=2))\n",
    "    model.add(ks.layers.Dropout(0.2))\n",
    "\n",
    "    model.add(ks.layers.Conv2D(filters=128, kernel_size=3, padding='same',activation=activation))\n",
    "    model.add(ks.layers.BatchNormalization())\n",
    "    model.add(ks.layers.MaxPooling2D(pool_size=2))\n",
    "    model.add(ks.layers.Dropout(0.2))\n",
    "    model.add(ks.layers.GlobalAveragePooling2D())\n",
    "\n",
    "    model.add(ks.layers.Dense(100, activation='relu'))\n",
    "    model.add(ks.layers.Dense(75, activation='relu'))\n",
    "    model.add(ks.layers.Dense(50, activation='relu'))\n",
    "    model.add(ks.layers.Dense(28, activation='softmax'))\n",
    "\n",
    "    # Compile model\n",
    "    model.compile(loss='categorical_crossentropy', metrics=['accuracy'], optimizer=optimizer)\n",
    "    \n",
    "    return model"
   ]
  },
  {
   "cell_type": "code",
   "execution_count": 91,
   "id": "812a651f",
   "metadata": {},
   "outputs": [
    {
     "name": "stdout",
     "output_type": "stream",
     "text": [
      "Model: \"sequential_9\"\n",
      "_________________________________________________________________\n",
      "Layer (type)                 Output Shape              Param #   \n",
      "=================================================================\n",
      "conv2d_26 (Conv2D)           (None, 32, 32, 16)        160       \n",
      "_________________________________________________________________\n",
      "batch_normalization_26 (Batc (None, 32, 32, 16)        64        \n",
      "_________________________________________________________________\n",
      "max_pooling2d_26 (MaxPooling (None, 16, 16, 16)        0         \n",
      "_________________________________________________________________\n",
      "dropout_26 (Dropout)         (None, 16, 16, 16)        0         \n",
      "_________________________________________________________________\n",
      "conv2d_27 (Conv2D)           (None, 16, 16, 32)        4640      \n",
      "_________________________________________________________________\n",
      "batch_normalization_27 (Batc (None, 16, 16, 32)        128       \n",
      "_________________________________________________________________\n",
      "max_pooling2d_27 (MaxPooling (None, 8, 8, 32)          0         \n",
      "_________________________________________________________________\n",
      "dropout_27 (Dropout)         (None, 8, 8, 32)          0         \n",
      "_________________________________________________________________\n",
      "conv2d_28 (Conv2D)           (None, 8, 8, 64)          18496     \n",
      "_________________________________________________________________\n",
      "batch_normalization_28 (Batc (None, 8, 8, 64)          256       \n",
      "_________________________________________________________________\n",
      "max_pooling2d_28 (MaxPooling (None, 4, 4, 64)          0         \n",
      "_________________________________________________________________\n",
      "dropout_28 (Dropout)         (None, 4, 4, 64)          0         \n",
      "_________________________________________________________________\n",
      "conv2d_29 (Conv2D)           (None, 4, 4, 128)         73856     \n",
      "_________________________________________________________________\n",
      "batch_normalization_29 (Batc (None, 4, 4, 128)         512       \n",
      "_________________________________________________________________\n",
      "max_pooling2d_29 (MaxPooling (None, 2, 2, 128)         0         \n",
      "_________________________________________________________________\n",
      "dropout_29 (Dropout)         (None, 2, 2, 128)         0         \n",
      "_________________________________________________________________\n",
      "global_average_pooling2d_5 ( (None, 128)               0         \n",
      "_________________________________________________________________\n",
      "dense_17 (Dense)             (None, 100)               12900     \n",
      "_________________________________________________________________\n",
      "dense_18 (Dense)             (None, 75)                7575      \n",
      "_________________________________________________________________\n",
      "dense_19 (Dense)             (None, 50)                3800      \n",
      "_________________________________________________________________\n",
      "dense_20 (Dense)             (None, 28)                1428      \n",
      "=================================================================\n",
      "Total params: 123,815\n",
      "Trainable params: 123,335\n",
      "Non-trainable params: 480\n",
      "_________________________________________________________________\n"
     ]
    }
   ],
   "source": [
    "model = create_model()\n",
    "model.summary()"
   ]
  },
  {
   "cell_type": "code",
   "execution_count": 93,
   "id": "eca143a9",
   "metadata": {},
   "outputs": [],
   "source": [
    "model = create_model(optimizer='Adam', activation='relu')"
   ]
  },
  {
   "cell_type": "code",
   "execution_count": 94,
   "id": "f75e9975",
   "metadata": {
    "scrolled": true
   },
   "outputs": [
    {
     "name": "stdout",
     "output_type": "stream",
     "text": [
      "Epoch 1/15\n",
      "210/210 [==============================] - 20s 92ms/step - loss: 2.7350 - accuracy: 0.1850 - val_loss: 5.6664 - val_accuracy: 0.0357\n",
      "Epoch 2/15\n",
      "210/210 [==============================] - 20s 98ms/step - loss: 0.9009 - accuracy: 0.6815 - val_loss: 4.8182 - val_accuracy: 0.0714\n",
      "Epoch 3/15\n",
      "210/210 [==============================] - 22s 104ms/step - loss: 0.5865 - accuracy: 0.7991 - val_loss: 0.4699 - val_accuracy: 0.8461\n",
      "Epoch 4/15\n",
      "210/210 [==============================] - 23s 107ms/step - loss: 0.4482 - accuracy: 0.8469 - val_loss: 0.5130 - val_accuracy: 0.8152\n",
      "Epoch 5/15\n",
      "210/210 [==============================] - 21s 101ms/step - loss: 0.3800 - accuracy: 0.8676 - val_loss: 0.4869 - val_accuracy: 0.8464\n",
      "Epoch 6/15\n",
      "210/210 [==============================] - 22s 106ms/step - loss: 0.3280 - accuracy: 0.8895 - val_loss: 0.4043 - val_accuracy: 0.8619\n",
      "Epoch 7/15\n",
      "210/210 [==============================] - 27s 129ms/step - loss: 0.2876 - accuracy: 0.9017 - val_loss: 0.2220 - val_accuracy: 0.9277\n",
      "Epoch 8/15\n",
      "210/210 [==============================] - 20s 96ms/step - loss: 0.2898 - accuracy: 0.9010 - val_loss: 0.2233 - val_accuracy: 0.9253\n",
      "Epoch 9/15\n",
      "210/210 [==============================] - 25s 118ms/step - loss: 0.2540 - accuracy: 0.9109 - val_loss: 0.1627 - val_accuracy: 0.9485\n",
      "Epoch 10/15\n",
      "210/210 [==============================] - 22s 103ms/step - loss: 0.2373 - accuracy: 0.9202 - val_loss: 0.6700 - val_accuracy: 0.7414\n",
      "Epoch 11/15\n",
      "210/210 [==============================] - 22s 104ms/step - loss: 0.2174 - accuracy: 0.9227 - val_loss: 0.2670 - val_accuracy: 0.9095\n",
      "Epoch 12/15\n",
      "210/210 [==============================] - 20s 96ms/step - loss: 0.2084 - accuracy: 0.9290 - val_loss: 0.4765 - val_accuracy: 0.8497\n",
      "Epoch 13/15\n",
      "210/210 [==============================] - 20s 96ms/step - loss: 0.2054 - accuracy: 0.9313 - val_loss: 0.2556 - val_accuracy: 0.9208\n",
      "Epoch 14/15\n",
      "210/210 [==============================] - 20s 95ms/step - loss: 0.2010 - accuracy: 0.9284 - val_loss: 0.2700 - val_accuracy: 0.9089\n",
      "Epoch 15/15\n",
      "210/210 [==============================] - 20s 97ms/step - loss: 0.1826 - accuracy: 0.9404 - val_loss: 0.1406 - val_accuracy: 0.9551\n"
     ]
    }
   ],
   "source": [
    "history = model.fit(training_letters_images_scaled, training_letters_labels_encoded, \n",
    "                    validation_data=(testing_letters_images_scaled, testing_letters_labels_encoded),\n",
    "                    epochs=15, batch_size=64)"
   ]
  },
  {
   "cell_type": "code",
   "execution_count": 96,
   "id": "a8babb49",
   "metadata": {},
   "outputs": [
    {
     "name": "stdout",
     "output_type": "stream",
     "text": [
      "Number of different parameter combinations = 5\n"
     ]
    }
   ],
   "source": [
    "np.random.seed(0)\n",
    "\n",
    "optimizer = ['SGD','RMSprop', 'Adam', 'Adagrad', 'Nadam']\n",
    "activation = 'relu'\n",
    "\n",
    "param_grid = dict(optimizer=optimizer)\n",
    "\n",
    "# count number of different parameters values combinations\n",
    "parameters_number = 1\n",
    "for x in param_grid:\n",
    "    parameters_number = parameters_number * len(param_grid[x]) \n",
    "print(\"Number of different parameter combinations = {}\".format(parameters_number))"
   ]
  },
  {
   "cell_type": "code",
   "execution_count": null,
   "id": "c520b64c",
   "metadata": {},
   "outputs": [],
   "source": []
  }
 ],
 "metadata": {
  "kernelspec": {
   "display_name": "Python 3",
   "language": "python",
   "name": "python3"
  },
  "language_info": {
   "codemirror_mode": {
    "name": "ipython",
    "version": 3
   },
   "file_extension": ".py",
   "mimetype": "text/x-python",
   "name": "python",
   "nbconvert_exporter": "python",
   "pygments_lexer": "ipython3",
   "version": "3.8.8"
  }
 },
 "nbformat": 4,
 "nbformat_minor": 5
}
